{
 "cells": [
  {
   "attachments": {},
   "cell_type": "markdown",
   "metadata": {},
   "source": [
    "<a href='https://www.darshan.ac.in/'> <img src='https://www.darshan.ac.in/Content/media/DU_Logo.svg' width=\"250\" height=\"300\"/></a>\n",
    "<pre>\n",
    "<center><b><h1>Python Programming - 2101CS405</b></center>\n",
    "<center><b><h1>Lab - 6</b></center>    \n",
    "<pre>"
   ]
  },
  {
   "cell_type": "markdown",
   "metadata": {},
   "source": [
    "# Tuples, dictionary, set"
   ]
  },
  {
   "cell_type": "markdown",
   "metadata": {},
   "source": [
    "# A"
   ]
  },
  {
   "cell_type": "markdown",
   "metadata": {},
   "source": [
    "### 01) WAP to sort python dictionary by key or value."
   ]
  },
  {
   "cell_type": "code",
   "execution_count": 9,
   "metadata": {},
   "outputs": [
    {
     "name": "stdout",
     "output_type": "stream",
     "text": [
      "Answer Sort by Key :  {'1': 'Divyank', '3': 'Devanshu'}\n"
     ]
    }
   ],
   "source": [
    "n = int(input(\"Enter Size : \"))\n",
    "myDict = {}\n",
    "while(n>0):\n",
    "    key = input(\"Enter the Key : \")\n",
    "    value = input(\"Enter the Value : \")\n",
    "    myDict[key] = value\n",
    "    n = n-1\n",
    "answer = dict(sorted(myDict.items(), key = lambda x:x[0]));\n",
    "print(\"Answer Sort by Key : \", answer)"
   ]
  },
  {
   "cell_type": "markdown",
   "metadata": {},
   "source": [
    "### 02) WAP to merge two dictionaries given by user."
   ]
  },
  {
   "cell_type": "code",
   "execution_count": 5,
   "metadata": {},
   "outputs": [
    {
     "data": {
      "text/plain": [
       "{'1': 'Divyank', '2': 'Sahil', '3': 'Devanshu', '4': 'Mubin'}"
      ]
     },
     "execution_count": 5,
     "metadata": {},
     "output_type": "execute_result"
    }
   ],
   "source": [
    "n = int(input(\"enter the size:\"));\n",
    "myDict = {};\n",
    "while(n> 0):\n",
    "    key = input(\"Enter the key : \");\n",
    "    value = input(\"Enter the value : \");\n",
    "    myDict[key] = value;\n",
    "    n = n-1;\n",
    "n = int(input(\"enter the size:\"));\n",
    "myDict2 = {};\n",
    "while(n> 0):\n",
    "    key = input(\"Enter the key : \");\n",
    "    value = input(\"Enter the value : \");\n",
    "    myDict2[key] = value;\n",
    "    n = n-1;\n",
    "myDict3 = myDict|myDict2;\n",
    "myDict3"
   ]
  },
  {
   "cell_type": "markdown",
   "metadata": {},
   "source": [
    "### 03) WAP to find tuples that have all elements divisible by K from a list of tuples."
   ]
  },
  {
   "cell_type": "code",
   "execution_count": 2,
   "metadata": {},
   "outputs": [
    {
     "data": {
      "text/plain": [
       "[]"
      ]
     },
     "execution_count": 2,
     "metadata": {},
     "output_type": "execute_result"
    }
   ],
   "source": [
    "k = int(input(\"Enter the k : \"))\n",
    "list = [(1,2,3),(4,6),(6,7,8)]\n",
    "list2 = []; \n",
    "for i in list:\n",
    "    check = True\n",
    "    for j in i:\n",
    "        if(j%k!=0):\n",
    "            check = False\n",
    "            break;\n",
    "    if(check):\n",
    "        list2.append(i)\n",
    "list2 "
   ]
  },
  {
   "cell_type": "markdown",
   "metadata": {},
   "source": [
    "### 04) WAP to find Tuples with positive elements in List of tuples."
   ]
  },
  {
   "cell_type": "code",
   "execution_count": 13,
   "metadata": {},
   "outputs": [
    {
     "data": {
      "text/plain": [
       "[(1, 2, 3), (4, 6), (6, 7, 8)]"
      ]
     },
     "execution_count": 13,
     "metadata": {},
     "output_type": "execute_result"
    }
   ],
   "source": [
    "list = [(1,2,3),(4,6),(6,7,8),(-4,-5),(-1,2,3)]\n",
    "list2 = []\n",
    "for i in list:\n",
    "    check = True\n",
    "    for j in i:\n",
    "        if(j<0):\n",
    "            check = False\n",
    "            break\n",
    "    if(check):\n",
    "        list2.append(i)\n",
    "list2\n"
   ]
  },
  {
   "cell_type": "markdown",
   "metadata": {},
   "source": [
    "### 05) WAP which perform union of two sets."
   ]
  },
  {
   "cell_type": "code",
   "execution_count": null,
   "metadata": {},
   "outputs": [],
   "source": [
    "set1 = {1,2,3,4};\n",
    "set2 = {2,3,4,5};\n",
    "set3 = set1.union(set2);\n",
    "set3"
   ]
  },
  {
   "cell_type": "markdown",
   "metadata": {},
   "source": [
    "# B"
   ]
  },
  {
   "cell_type": "markdown",
   "metadata": {},
   "source": [
    "### 01) WAP to convert binary tuple into integer."
   ]
  },
  {
   "cell_type": "code",
   "execution_count": 3,
   "metadata": {},
   "outputs": [
    {
     "name": "stdout",
     "output_type": "stream",
     "text": [
      "(0, 0, 1, 1)\n",
      "4\n"
     ]
    }
   ],
   "source": [
    "tup = (0,0,1,1) \n",
    "print(tup) \n",
    "res = int(\"\".join(str(ele) for ele in tup),3) \n",
    "print(res)\n"
   ]
  },
  {
   "cell_type": "markdown",
   "metadata": {},
   "source": [
    "### 02) WAP to count frequency in list by dictionary."
   ]
  },
  {
   "cell_type": "code",
   "execution_count": null,
   "metadata": {},
   "outputs": [],
   "source": [
    "str = input(\"Enter Search Word : \")\n",
    "list = [a,a,b,c,d,d,v]\n",
    "count=0\n",
    "for i in list:\n",
    "    if(str==i):\n",
    "        count = count+1\n",
    "print(count)\n"
   ]
  },
  {
   "cell_type": "markdown",
   "metadata": {},
   "source": [
    "### 03) WAP to remove all the duplicate words from the list using dictionary."
   ]
  },
  {
   "cell_type": "code",
   "execution_count": null,
   "metadata": {},
   "outputs": [],
   "source": []
  }
 ],
 "metadata": {
  "kernelspec": {
   "display_name": "Python 3",
   "language": "python",
   "name": "python3"
  },
  "language_info": {
   "codemirror_mode": {
    "name": "ipython",
    "version": 3
   },
   "file_extension": ".py",
   "mimetype": "text/x-python",
   "name": "python",
   "nbconvert_exporter": "python",
   "pygments_lexer": "ipython3",
   "version": "3.11.0"
  },
  "vscode": {
   "interpreter": {
    "hash": "1f6a27bcfbe46a917dbd192f4a82657396dda26148bae633192e8d28c70725f1"
   }
  }
 },
 "nbformat": 4,
 "nbformat_minor": 4
}
