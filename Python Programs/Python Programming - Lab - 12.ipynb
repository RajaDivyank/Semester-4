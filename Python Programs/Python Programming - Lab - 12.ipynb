{
 "cells": [
  {
   "cell_type": "markdown",
   "metadata": {},
   "source": [
    "<a href='https://www.darshan.ac.in/'> <img src='https://www.darshan.ac.in/Content/media/DU_Logo.svg' width=\"250\" height=\"300\"/></a>\n",
    "<pre>\n",
    "<center><b><h1>Python Programming - 2101CS405</b></center>\n",
    "<center><b><h1>Lab - 12</b></center>    \n",
    "<pre>"
   ]
  },
  {
   "cell_type": "markdown",
   "metadata": {},
   "source": [
    "# OOP"
   ]
  },
  {
   "cell_type": "markdown",
   "metadata": {},
   "source": [
    "### 01) Write a Program to create a class by name Students, and initialize attributes like name, age, and grade while creating an object."
   ]
  },
  {
   "cell_type": "code",
   "execution_count": 3,
   "metadata": {},
   "outputs": [
    {
     "name": "stdout",
     "output_type": "stream",
     "text": [
      "Divyank 20 A+\n"
     ]
    }
   ],
   "source": [
    "class Student:\n",
    "    name=\"\"\n",
    "    age=0\n",
    "    grade=\"any\"\n",
    "    def __init__(self,name,age,grade):\n",
    "        self.name = name\n",
    "        self.age = age\n",
    "        self.grade = grade\n",
    "        print(name,age,grade)\n",
    "obj = Student(\"Divyank\",20,\"A+\")\n"
   ]
  },
  {
   "cell_type": "markdown",
   "metadata": {},
   "source": [
    "### 02) Create a class named Bank_Account with Account_No, User_Name, Email,Account_Type and Account_Balance data members. Also create a method GetAccountDetails() and DisplayAccountDetails(). Create main method to demonstrate the Bank_Account class."
   ]
  },
  {
   "cell_type": "code",
   "execution_count": 4,
   "metadata": {},
   "outputs": [
    {
     "name": "stdout",
     "output_type": "stream",
     "text": [
      "Account Number =  21021515151\n",
      "User Name =  Divyank\n",
      "Email =  divyank6203@gmail.com\n",
      "Account Type =  saving\n",
      "Account Balance =  9000000000\n"
     ]
    }
   ],
   "source": [
    "class BankAccount:\n",
    "    Account_No=\"\"\n",
    "    User_Name=\"\"\n",
    "    Email=\"\"\n",
    "    Account_Type=\"\"\n",
    "    Account_Balance=\"\"\n",
    "    def __init__(self):\n",
    "        pass\n",
    "    def getAccountDetail(self):\n",
    "        self.Account_No = input(\"Enter Account Number\")\n",
    "        self.User_Name = input(\"Enter User Name\")\n",
    "        self.Email = input(\"Enter Email\")\n",
    "        self.Account_Type = input(\"Enter Account Type\")\n",
    "        self.Account_Balance = input(\"Enter Account Balance\")\n",
    "    def printAccountDetail(self):\n",
    "        print(\"Account Number = \",self.Account_No)\n",
    "        print(\"User Name = \" ,self.User_Name)\n",
    "        print(\"Email = \" , self.Email)\n",
    "        print(\"Account Type = \",self.Account_Type)\n",
    "        print(\"Account Balance = \" , self.Account_Balance)\n",
    "    def main(self):\n",
    "        self.getAccountDetail();\n",
    "        self.printAccountDetail();\n",
    "obj = BankAccount()\n",
    "obj.main()\n"
   ]
  },
  {
   "cell_type": "markdown",
   "metadata": {},
   "source": [
    "### 03) WAP to create Circle class with area and perimeter function to find area and perimeter of circle."
   ]
  },
  {
   "cell_type": "code",
   "execution_count": 6,
   "metadata": {},
   "outputs": [
    {
     "name": "stdout",
     "output_type": "stream",
     "text": [
      "Area of Circle =  314.0\n",
      "perimeter of Circle =  62.800000000000004\n"
     ]
    }
   ],
   "source": [
    "class Circle:\n",
    "    radius = 1\n",
    "    def __init__(self,radius):\n",
    "        self.radius = radius\n",
    "    def circleArea(self):\n",
    "        print(\"Area of Circle = \",3.14*(self.radius**2))\n",
    "    def circlePerimeter(self):\n",
    "        print(\"perimeter of Circle = \",2*3.14*self.radius)\n",
    "obj = Circle(10)\n",
    "obj.circleArea()\n",
    "obj.circlePerimeter()"
   ]
  },
  {
   "cell_type": "markdown",
   "metadata": {},
   "source": [
    "### 04) Create a class for employees that includes attributes such as name, age, salary, and methods to update and display employee information."
   ]
  },
  {
   "cell_type": "code",
   "execution_count": 8,
   "metadata": {},
   "outputs": [
    {
     "name": "stdout",
     "output_type": "stream",
     "text": [
      "Name =  kscnckjs\n",
      "age =  626\n",
      "salary =  626.0\n"
     ]
    }
   ],
   "source": [
    "class Employee:\n",
    "    name = \"Divyank\";\n",
    "    age = \"30\";\n",
    "    salary = \"200000\";\n",
    "    def __init__(self):\n",
    "        pass\n",
    "    def update(self):\n",
    "        self.name = input(\"Enter the name : \");\n",
    "        self.age = int(input(\"Enter the age : \"));\n",
    "        self.salary = float(input(\"Enter the salary : \"));\n",
    "        self.printDetails();\n",
    "    def printDetails(self):\n",
    "        print(\"Name = \",self.name);\n",
    "        print(\"age = \",self.age);\n",
    "        print(\"salary = \",self.salary);\n",
    "\n",
    "obj = Employee();\n",
    "obj.update();"
   ]
  },
  {
   "cell_type": "markdown",
   "metadata": {},
   "source": [
    "### 05) Create a bank account class with methods to deposit, withdraw, and check balance."
   ]
  },
  {
   "cell_type": "code",
   "execution_count": 12,
   "metadata": {},
   "outputs": [
    {
     "name": "stdout",
     "output_type": "stream",
     "text": [
      "Deposit balance is =  100\n",
      "Withdraw Balance is =  90\n"
     ]
    }
   ],
   "source": [
    "class BankAccount:\n",
    "    balance=0\n",
    "    def deposit(self,amount):\n",
    "        if(self.balance+amount<0):\n",
    "            print(\"Operation cant be performed\");\n",
    "        else:\n",
    "            self.balance = self.balance + amount;\n",
    "            print(\"Deposit balance is = \",self.balance);\n",
    "    def withdraw(self,amount):\n",
    "        if(self.balance-amount<0):\n",
    "            print(\"Operation cant be performed\");\n",
    "        else:\n",
    "            self.balance = self.balance-amount;\n",
    "            print(\"Withdraw Balance is = \", self.balance);\n",
    "obj = BankAccount()\n",
    "obj.deposit(100)\n",
    "obj.withdraw(10)"
   ]
  },
  {
   "cell_type": "markdown",
   "metadata": {},
   "source": [
    "### 06) Create a class for managing inventory that includes attributes such as item name, price, quantity, and methods to add, remove, and update items."
   ]
  },
  {
   "cell_type": "code",
   "execution_count": null,
   "metadata": {},
   "outputs": [],
   "source": []
  },
  {
   "cell_type": "markdown",
   "metadata": {},
   "source": [
    "### 09) Create a Class with instance attributes"
   ]
  },
  {
   "cell_type": "code",
   "execution_count": null,
   "metadata": {},
   "outputs": [],
   "source": []
  },
  {
   "cell_type": "markdown",
   "metadata": {},
   "source": [
    "### 07)\n",
    "Create one class student_kit <br>\n",
    "Within the student_kit class create one class attribute principal name ( Mr ABC ) <br>\n",
    "Create one attendance method and take input as number of days. <br>\n",
    "While creating student take input their name . <br>\n",
    "Create one certificate for each student by taking input of number of days present in class. <br>"
   ]
  },
  {
   "cell_type": "code",
   "execution_count": null,
   "metadata": {},
   "outputs": [],
   "source": []
  },
  {
   "cell_type": "markdown",
   "metadata": {},
   "source": [
    "### 08) Define Time class with hour and minute as data member. Also define addition method to add two time objects."
   ]
  },
  {
   "cell_type": "code",
   "execution_count": null,
   "metadata": {},
   "outputs": [],
   "source": []
  },
  {
   "attachments": {},
   "cell_type": "markdown",
   "metadata": {},
   "source": [
    "### 09) WAP to demonstrate inheritance in python."
   ]
  },
  {
   "cell_type": "code",
   "execution_count": null,
   "metadata": {},
   "outputs": [],
   "source": []
  },
  {
   "cell_type": "markdown",
   "metadata": {},
   "source": [
    "### 10) Create a child class Bus that will inherit all of the variables and methods of the Vehicle class\n",
    "class Vehicle:\n",
    "\n",
    "    def __init__(self, name, max_speed, mileage):\n",
    "        self.name = name\n",
    "        self.max_speed = max_speed\n",
    "        self.mileage = mileage\n",
    "        \n",
    "Create a Bus object that will inherit all of the variables and methods of the parent Vehicle class and display it.        "
   ]
  },
  {
   "cell_type": "code",
   "execution_count": null,
   "metadata": {},
   "outputs": [],
   "source": []
  },
  {
   "cell_type": "markdown",
   "metadata": {},
   "source": [
    "### 11)  Create a class hierarchy for different types of animals, with a parent Animal class and child classes for specific animals like Cat, Dog, and Bird."
   ]
  },
  {
   "cell_type": "code",
   "execution_count": null,
   "metadata": {},
   "outputs": [],
   "source": []
  },
  {
   "cell_type": "markdown",
   "metadata": {},
   "source": [
    "### 12) Create a class hierarchy for different types of vehicles, with a parent Vehicle class and child classes for specific vehicles like Car, Truck, and Motorcycle."
   ]
  },
  {
   "cell_type": "code",
   "execution_count": null,
   "metadata": {},
   "outputs": [],
   "source": []
  },
  {
   "cell_type": "markdown",
   "metadata": {},
   "source": [
    "### 13)  Create a class hierarchy for different types of bank accounts, with a parent Account class and child classes for specific account types like Checking, Savings, and Credit."
   ]
  },
  {
   "cell_type": "code",
   "execution_count": null,
   "metadata": {},
   "outputs": [],
   "source": []
  },
  {
   "cell_type": "markdown",
   "metadata": {},
   "source": [
    "### 14) Create a Shape class with a draw method that is not implemented. Create three child classes Rectangle, Circle, and Triangle that implement the draw method with their respective drawing behaviors. Create a list of Shape objects that includes one instance of each child class, and then iterate through the list and call the draw method on each object."
   ]
  },
  {
   "cell_type": "code",
   "execution_count": null,
   "metadata": {},
   "outputs": [],
   "source": []
  },
  {
   "cell_type": "markdown",
   "metadata": {},
   "source": [
    "### 15) Create a Person class with a constructor that takes two arguments name and age. Create a child class Employee that inherits from Person and adds a new attribute salary. Override the __init__ method in Employee to call the parent class's __init__ method using the super keyword, and then initialize the salary attribute."
   ]
  },
  {
   "cell_type": "code",
   "execution_count": null,
   "metadata": {},
   "outputs": [],
   "source": [
    "%run"
   ]
  }
 ],
 "metadata": {
  "kernelspec": {
   "display_name": "Python 3 (ipykernel)",
   "language": "python",
   "name": "python3"
  },
  "language_info": {
   "codemirror_mode": {
    "name": "ipython",
    "version": 3
   },
   "file_extension": ".py",
   "mimetype": "text/x-python",
   "name": "python",
   "nbconvert_exporter": "python",
   "pygments_lexer": "ipython3",
   "version": "3.11.0"
  }
 },
 "nbformat": 4,
 "nbformat_minor": 4
}
