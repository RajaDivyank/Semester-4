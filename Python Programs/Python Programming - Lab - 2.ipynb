{
  "cells": [
    {
      "cell_type": "markdown",
      "metadata": {
        "id": "fUvPM0bFOHH2"
      },
      "source": [
        "\n",
        "<a href='https://www.darshan.ac.in/'> <img src='https://www.darshan.ac.in/Content/media/DU_Logo.svg' width=\"250\" height=\"300\"/></a>\n",
        "<pre>\n",
        "<center><b><h1>Python Programming - 2101CS405</b></center>\n",
        "<center><b><h1>Lab - 2</b></center>    \n",
        "<pre>"
      ]
    },
    {
      "cell_type": "markdown",
      "metadata": {
        "id": "bawjeaysOHH5"
      },
      "source": [
        "# if..else.."
      ]
    },
    {
      "cell_type": "markdown",
      "metadata": {
        "id": "1Eg38hptOHH5"
      },
      "source": [
        "### 01) WAP to check whether the given number is positive or negative."
      ]
    },
    {
      "cell_type": "code",
      "execution_count": null,
      "metadata": {
        "colab": {
          "base_uri": "https://localhost:8080/"
        },
        "id": "v2C2VRCUOHH5",
        "outputId": "b9732637-897f-4d2d-8ea0-ebc4bc8164cd"
      },
      "outputs": [],
      "source": [
        "a = int(input(\"Enter Number : \"))\n",
        "if(a>0):\n",
        "    print(\"Number is Positive\")\n",
        "elif(a<0):\n",
        "    print(\"Number is Negative\")\n",
        "else:\n",
        "    print(\"Zero\")\n"
      ]
    },
    {
      "cell_type": "markdown",
      "metadata": {
        "id": "tX_YuOSCOHH6"
      },
      "source": [
        "### 02) WAP to check whether the given number is odd or even"
      ]
    },
    {
      "cell_type": "code",
      "execution_count": null,
      "metadata": {
        "colab": {
          "base_uri": "https://localhost:8080/"
        },
        "id": "9JVuQHJ1OHH7",
        "outputId": "8eb7f894-efd8-49d2-95ff-e5a7b8d5c548"
      },
      "outputs": [],
      "source": [
        "a = int(input(\"Enter Number : \"))\n",
        "if(a%2 == 0):\n",
        "    print(\"Number is Even\")\n",
        "else:\n",
        "    print(\"Number is Odd\")"
      ]
    },
    {
      "cell_type": "markdown",
      "metadata": {
        "id": "3ayNoCKPOHH7"
      },
      "source": [
        "### 03) WAP to find out largest number from given two numbers using simple if and ternary operator."
      ]
    },
    {
      "cell_type": "code",
      "execution_count": null,
      "metadata": {
        "colab": {
          "base_uri": "https://localhost:8080/"
        },
        "id": "nxAGk7MQOHH7",
        "outputId": "1b239cc0-370b-42d5-9db8-defc131ed5a0"
      },
      "outputs": [],
      "source": [
        "a = int(input(\"Enter First Number : \"))\n",
        "b = int(input(\"Enter Second Number : \"))\n",
        "max = a if(a>b) else b\n",
        "print(\"Maximum Number is \",max)"
      ]
    },
    {
      "cell_type": "markdown",
      "metadata": {
        "id": "so9GwU6-OHH7"
      },
      "source": [
        "### 04) WAP to find out largest number from given three numbers."
      ]
    },
    {
      "cell_type": "code",
      "execution_count": null,
      "metadata": {
        "colab": {
          "base_uri": "https://localhost:8080/"
        },
        "id": "NEwCCTy4OHH8",
        "outputId": "c06b36c8-857e-4314-abfc-bf20aa01d1d2"
      },
      "outputs": [],
      "source": [
        "a = int(input(\"Enter First Number : \"))\n",
        "b = int(input(\"Enter Second Number : \"))\n",
        "c = int(input(\"Enter Third Number : \"))\n",
        "if(a>b):\n",
        "  if(a>c):\n",
        "    print(\"Largest Number is \",a)\n",
        "  else:\n",
        "    print(\"Largest Number is \",c)\n",
        "else:\n",
        "  if(b>c):\n",
        "    print(\"Largest Number is \",b)\n",
        "  else:\n",
        "    print(\"Largest Number is \",c)    "
      ]
    },
    {
      "cell_type": "markdown",
      "metadata": {
        "id": "NPox8z9oOHH8"
      },
      "source": [
        "### 05) WAP to check whether the given year is leap year or not.\n",
        "[If a year can be divisible by 4 but not divisible by 100 then it is leap year but if it is divisible by 400 then it is leap year]"
      ]
    },
    {
      "cell_type": "code",
      "execution_count": null,
      "metadata": {
        "id": "woGRxaYiOHH8"
      },
      "outputs": [],
      "source": [
        "year = int(input(\"enter the year :\"))\n",
        "if(year%4==0):\n",
        "    if(year%100==0):\n",
        "        if(year%400==0):\n",
        "            print(\"It's a leap year\")\n",
        "        else:\n",
        "            print(\"It is not a leap year\")\n",
        "    else:\n",
        "        print(\"It's a leap year\")\n",
        "else:\n",
        "    print(\"it is not a leap year\")"
      ]
    },
    {
      "cell_type": "markdown",
      "metadata": {
        "id": "ANzq1MAMOHH8"
      },
      "source": [
        "### 06) WAP in python to display the name of the day according to the number given by the user"
      ]
    },
    {
      "cell_type": "code",
      "execution_count": null,
      "metadata": {
        "colab": {
          "base_uri": "https://localhost:8080/"
        },
        "id": "L8NUQdRbOHH8",
        "outputId": "c4825427-9e17-4528-a7d2-b35348f9c996"
      },
      "outputs": [],
      "source": [
        "day = int(input(\"Enter day : \"))\n",
        "n = day%7\n",
        "if(n==1):\n",
        "  print(\"Sunday\")\n",
        "elif(n==2):\n",
        "  print(\"Monday\")\n",
        "elif(n==3):\n",
        "  print(\"Tuesday\")\n",
        "elif(n==4):\n",
        "  print(\"Wednesday\")\n",
        "elif(n==5):\n",
        "  print(\"Thusday\")\n",
        "elif(n==6):\n",
        "  print(\"Friday\")\n",
        "elif(n==7):\n",
        "  print(\"Saturday\")\n",
        "else:\n",
        "  print(\"Enter Valid\")\n"
      ]
    },
    {
      "cell_type": "markdown",
      "metadata": {
        "id": "UZSNKnbzOHH9"
      },
      "source": [
        "### 07) WAP to implement simple calculator which performs (add,sub,mul,div) of two no. based on user input."
      ]
    },
    {
      "cell_type": "code",
      "execution_count": null,
      "metadata": {
        "colab": {
          "base_uri": "https://localhost:8080/"
        },
        "id": "KNnhwcCGOHH9",
        "outputId": "3cfdff56-de51-49ed-a497-6133081d7ebf"
      },
      "outputs": [],
      "source": [
        "print('''Enter Which operation is performed\n",
        "Addition : 1\n",
        "Subtraction : 2\n",
        "Multiplication : 3\n",
        "Division : 4''')\n",
        "n = int(input())\n",
        "a = int(input(\"Enter First Number : \"))\n",
        "b = int(input(\"Enter Second Number : \"))\n",
        "if(n==1):\n",
        "  print(\"Addition : \",a+b)\n",
        "elif(n==1):\n",
        "  print(\"Subtraction : \",a-b)\n",
        "elif(n==1):\n",
        "  print(\"Multiplication : \",a*b)\n",
        "elif(n==1):\n",
        "  print(\"Divition : \",a/b)\n",
        "else:\n",
        "  print(\"Enter Valid Number\")"
      ]
    },
    {
      "cell_type": "markdown",
      "metadata": {
        "id": "PNgYPdw3OHH9"
      },
      "source": [
        "### 08) WAP to calculate electricity bill based on following criteria. Which takes the unit from the user.\n",
        "a. First 1 to 50 units – Rs. 2.60/unit</br>\n",
        "b. Next 50 to 100 units – Rs. 3.25/unit</br>\n",
        "c. Next 100 to 200 units – Rs. 5.26/unit</br>\n",
        "d. above 200 units – Rs. 8.45/unit"
      ]
    },
    {
      "cell_type": "code",
      "execution_count": null,
      "metadata": {
        "id": "I8Km2Ax5OHH9"
      },
      "outputs": [],
      "source": [
        "unit = float(input(\"enter the unit :\"))\n",
        "bill_amount = 0;\n",
        "if(unit<=50):\n",
        "    bill_amount =unit*2.60\n",
        "elif(unit>50 and unit<=100):\n",
        "    v1=unit-50\n",
        "    bill_amount = (50*2.60)+(v1*3.25)\n",
        "elif(unit>100 and unit<=200):\n",
        "    v1=unit- 100\n",
        "    bill_amount = (50*2.60)+(50*3.25)+(v1*5.26)\n",
        "else:\n",
        "    v1 = unit-200\n",
        "    bill_amount= (50*2.60)+(50*3.25)+(100*5.26)+(v1*8.45)\n",
        "print(\"the bill amount is :\",bill_amount)"
      ]
    },
    {
      "cell_type": "markdown",
      "metadata": {
        "id": "aOymmZwhOHH9"
      },
      "source": [
        "### 01) WAP to read marks of five subjects. Calculate percentage and print class accordingly. \n",
        "Fail below 35 </br>\n",
        "Pass Class between 35 to 45 </br>\n",
        "Second Class</br>\n",
        "between 45 to 60</br>\n",
        "First Class between 60 to 70</br> \n",
        "Distinction if more than 70"
      ]
    },
    {
      "cell_type": "code",
      "execution_count": null,
      "metadata": {
        "colab": {
          "base_uri": "https://localhost:8080/"
        },
        "id": "VB3qjom4OHH9",
        "outputId": "b770f516-ee02-488f-94fc-385a3306f18c"
      },
      "outputs": [],
      "source": [
        "python = int(input(\"Enter python marks : \"))\n",
        "java = int(input(\"Enter java marks : \"))\n",
        "daa = int(input(\"Enter DAA marks : \"))\n",
        "web = int(input(\"Enter web marks : \"))\n",
        "dbms = int(input(\"Enter dbms marks : \"))\n",
        "per = (python+java+daa+web+dbms)/5\n",
        "if(per<35):\n",
        "  print(\"Fail\")\n",
        "elif(per>35 and per<=45):\n",
        "  print(\"Pass\")\n",
        "elif(per>45 and per<=60):\n",
        "  print(\"Second Class\")\n",
        "elif(per>60 and per<=70):\n",
        "  print(\"First Class\")\n",
        "elif(per>70):\n",
        "  print(\"Distinction\")\n",
        "else:\n",
        "  print(\"Enter valid Number\")"
      ]
    },
    {
      "cell_type": "markdown",
      "metadata": {
        "id": "Iz_Ux7CgOHH-"
      },
      "source": [
        "### 02) WAP to find out the Maximum and Minimum number from given 4 numbers."
      ]
    },
    {
      "cell_type": "code",
      "execution_count": null,
      "metadata": {
        "id": "3clvAov_OHH-"
      },
      "outputs": [],
      "source": [
        "a = int(input(\"Enter First Number : \"))\n",
        "b = int(input(\"Enter Second Number : \"))\n",
        "c = int(input(\"Enter Third Number : \"))\n",
        "d = int(input(\"Enter Third Number : \"))\n",
        "operation = input(\"enter min or max :\")\n",
        "\n",
        "if(operation==\"max\"):\n",
        "    if(a>=b and a>=c and a>=d):\n",
        "        print(a ,\"is largest\")\n",
        "    elif(b>=a and b>=c and b>=d):\n",
        "        print(b ,\"is largest\")\n",
        "    elif(c>=a and c>=b and c>=d):\n",
        "        print(c ,\"is largest\")\n",
        "    else:\n",
        "        print(d ,\"is largest\")\n",
        "        \n",
        "elif(operation==\"min\"):\n",
        "    if(a<=b and a<=c and a<=d):\n",
        "        print(a ,\"is Smallest\")\n",
        "    elif(b<=a and b<=c and b<=d):\n",
        "        print(b ,\"is Smallest\")\n",
        "    elif(c<=a and c<=b and c<=d):\n",
        "        print(c ,\"is Smallest\")\n",
        "    else:\n",
        "        print(d ,\"is Smallest\")\n",
        "else:\n",
        "    print(\"enter the valid operation\")"
      ]
    },
    {
      "cell_type": "markdown",
      "metadata": {
        "id": "e-miuVzhOHH-"
      },
      "source": [
        "### 03) WAP to input an integer number and check the last digit of number is even or odd."
      ]
    },
    {
      "cell_type": "code",
      "execution_count": null,
      "metadata": {
        "id": "ZtWVdUn_OHH-"
      },
      "outputs": [],
      "source": [
        "n = int(input(\"enter the integer number :\"))\n",
        "if(n%2==0):\n",
        "    print(\"the last digit is even\")\n",
        "else:\n",
        "    print(\"the last digit is odd\")"
      ]
    },
    {
      "cell_type": "markdown",
      "metadata": {
        "id": "QhGd8SWGOHH-"
      },
      "source": [
        "### 04) WAP to determine the roots of the equation ax2+bx+c=0."
      ]
    },
    {
      "cell_type": "code",
      "execution_count": null,
      "metadata": {
        "id": "K8dP2gcqOHH-"
      },
      "outputs": [],
      "source": [
        "a = int(input(\"Enter the a :\"))\n",
        "b = int(input(\"Enter the b :\"))\n",
        "c = int(input(\"Enter the c :\"))\n",
        "\n",
        "root1 = ((-b)+((b*b)-4*a*c)**(0.5))/2*a\n",
        "root2 =  ((-b)-((b*b)-4*a*c)**(0.5))/2*a\n",
        "print(\"roots are :\",root1,\",\",root2)"
      ]
    }
  ],
  "metadata": {
    "colab": {
      "provenance": []
    },
    "kernelspec": {
      "display_name": "Python 3.10.6 64-bit",
      "language": "python",
      "name": "python3"
    },
    "language_info": {
      "codemirror_mode": {
        "name": "ipython",
        "version": 3
      },
      "file_extension": ".py",
      "mimetype": "text/x-python",
      "name": "python",
      "nbconvert_exporter": "python",
      "pygments_lexer": "ipython3",
      "version": "3.10.6"
    },
    "vscode": {
      "interpreter": {
        "hash": "369f2c481f4da34e4445cda3fffd2e751bd1c4d706f27375911949ba6bb62e1c"
      }
    }
  },
  "nbformat": 4,
  "nbformat_minor": 0
}
