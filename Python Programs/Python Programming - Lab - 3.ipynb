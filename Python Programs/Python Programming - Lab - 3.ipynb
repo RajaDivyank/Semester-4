{
 "cells": [
  {
   "cell_type": "markdown",
   "metadata": {},
   "source": [
    "\n",
    "<a href='https://www.darshan.ac.in/'> <img src='https://www.darshan.ac.in/Content/media/DU_Logo.svg' width=\"250\" height=\"300\"/></a>\n",
    "<pre>\n",
    "<center><b><h1>Python Programming - 2101CS405</b></center>\n",
    "<center><b><h1>Lab - 3</b></center>    \n",
    "<pre>"
   ]
  },
  {
   "cell_type": "markdown",
   "metadata": {},
   "source": [
    "# for and while loop"
   ]
  },
  {
   "cell_type": "markdown",
   "metadata": {},
   "source": [
    "### 01) WAP to print 1 to 10"
   ]
  },
  {
   "cell_type": "code",
   "execution_count": null,
   "metadata": {},
   "outputs": [],
   "source": [
    "for i in range(1,11):\n",
    "    print(i);"
   ]
  },
  {
   "cell_type": "markdown",
   "metadata": {},
   "source": [
    "### 02) WAP to print 1 to n"
   ]
  },
  {
   "cell_type": "code",
   "execution_count": null,
   "metadata": {},
   "outputs": [],
   "source": [
    "n = int(input(\"Enter the value of n : \"));\n",
    "for i in range(1,n+1):\n",
    "    print(i);"
   ]
  },
  {
   "cell_type": "markdown",
   "metadata": {},
   "source": [
    "### 03) WAP to print odd numbers between 1 to n"
   ]
  },
  {
   "cell_type": "code",
   "execution_count": null,
   "metadata": {},
   "outputs": [],
   "source": [
    "n = int(input(\"Enter the value of n : \"));\n",
    "for i in range(1,n+1,2):\n",
    "    print(i);"
   ]
  },
  {
   "cell_type": "markdown",
   "metadata": {},
   "source": [
    "### 04) WAP to print numbers between two given numbers which is divisible by 2 but not divisible by 3"
   ]
  },
  {
   "cell_type": "code",
   "execution_count": null,
   "metadata": {},
   "outputs": [],
   "source": [
    "n1 = int(input(\"Enter the number1 : \"));\n",
    "n2 = int(input(\"Enter the number2 : \"));\n",
    "if(n1>n2):\n",
    "    extra = n1;\n",
    "    n1 = n2;\n",
    "    n2 = extra;\n",
    "for i in range(n1,n2+1):\n",
    "    if(i%2 == 0 and i%3 != 0):\n",
    "        print(i);"
   ]
  },
  {
   "cell_type": "markdown",
   "metadata": {},
   "source": [
    "### 05) WAP to print sum of 1 to n numbers"
   ]
  },
  {
   "cell_type": "code",
   "execution_count": null,
   "metadata": {},
   "outputs": [],
   "source": [
    "n = int(input(\"Enter the value of n : \"));\n",
    "sum = 0;\n",
    "for i in range(1,n+1) : \n",
    "    sum = sum + i;\n",
    "print(\"Sum = \",sum);"
   ]
  },
  {
   "cell_type": "markdown",
   "metadata": {},
   "source": [
    "### 06) WAP to print sum of series 1 + 4 + 9 + 16 + 25 + 36 + ...n"
   ]
  },
  {
   "cell_type": "code",
   "execution_count": null,
   "metadata": {},
   "outputs": [],
   "source": [
    "n = int(input(\"Enter the n : \"));\n",
    "sum = 0;\n",
    "for i in range(1,n+1):\n",
    "    sum = sum + i*i;\n",
    "print(\"Sum = \",sum);"
   ]
  },
  {
   "cell_type": "markdown",
   "metadata": {},
   "source": [
    "### 07) WAP to print sum of series 1 – 2 + 3 – 4 + 5 – 6 + 7 ... n"
   ]
  },
  {
   "cell_type": "code",
   "execution_count": null,
   "metadata": {},
   "outputs": [],
   "source": [
    "n = int(input(\"Enter the n : \"));\n",
    "sum = 0;\n",
    "for i in range(1,n+1) :\n",
    "    if(i%2 == 0) :\n",
    "        sum = sum - i;\n",
    "    else : \n",
    "        sum = sum + i\n",
    "print(\"Sum = \",sum);"
   ]
  },
  {
   "cell_type": "markdown",
   "metadata": {},
   "source": [
    "### 08) WAP to print multiplication table of given number."
   ]
  },
  {
   "cell_type": "code",
   "execution_count": null,
   "metadata": {},
   "outputs": [],
   "source": [
    "n = int(input(\"Enter the number : \"));\n",
    "for i in range(1,11) :\n",
    "    print(n,\" * \",i,\" = \",n*i);"
   ]
  },
  {
   "cell_type": "markdown",
   "metadata": {},
   "source": [
    "### 09) WAP to find factorial of the given number"
   ]
  },
  {
   "cell_type": "code",
   "execution_count": null,
   "metadata": {},
   "outputs": [],
   "source": [
    "n = int(input(\"Enter the number : \"));\n",
    "factorial = 1;\n",
    "for i in range(1,n+1) : \n",
    "    factorial = factorial * i;\n",
    "print(\"The factorial of a given number : \",factorial);"
   ]
  },
  {
   "cell_type": "markdown",
   "metadata": {},
   "source": [
    "### 10) WAP to find factors of the given number"
   ]
  },
  {
   "cell_type": "code",
   "execution_count": null,
   "metadata": {},
   "outputs": [],
   "source": [
    "n = int(input(\"Enter the number : \"));\n",
    "for i in range(1,n+1) : \n",
    "    if(n%i==0) :\n",
    "        print(i);"
   ]
  },
  {
   "cell_type": "markdown",
   "metadata": {},
   "source": [
    "### 11) WAP to find whether the given number is prime or not."
   ]
  },
  {
   "cell_type": "code",
   "execution_count": null,
   "metadata": {},
   "outputs": [],
   "source": [
    "n = int(input(\"Enter the number : \"));\n",
    "flag = False;\n",
    "for i in range(2,n) :\n",
    "    if(n%i==0) :\n",
    "        flag = True;\n",
    "        break;\n",
    "if(flag) :\n",
    "    print(\"number is not prime\");\n",
    "else :\n",
    "    print(\"number is prime\");"
   ]
  },
  {
   "cell_type": "markdown",
   "metadata": {},
   "source": [
    "### 12) WAP to print sum of digits of given number"
   ]
  },
  {
   "cell_type": "code",
   "execution_count": null,
   "metadata": {},
   "outputs": [],
   "source": [
    "n = int(input(\"Enter the number : \"));\n",
    "sum = 0;\n",
    "while(n > 0) :\n",
    "    sum = sum + n%10;\n",
    "    n = int(n/10);\n",
    "print(\"Sum is = \",sum);"
   ]
  },
  {
   "cell_type": "markdown",
   "metadata": {},
   "source": [
    "### 13) WAP to check whether the given number is palindrome or not"
   ]
  },
  {
   "cell_type": "code",
   "execution_count": null,
   "metadata": {},
   "outputs": [],
   "source": [
    "n = int(input(\"Enter the number : \"));\n",
    "extra = n;\n",
    "reverseNumber = 0;\n",
    "while(n > 0) :\n",
    "    reverseNumber = (reverseNumber*10) + n%10;\n",
    "    n = int(n/10);\n",
    "if(extra == reverseNumber) :\n",
    "    print(\"number is palindrome\");\n",
    "else :\n",
    "    print(\"not a palindrome\");"
   ]
  },
  {
   "cell_type": "markdown",
   "metadata": {},
   "source": [
    "### 01) WAP to check whether the given number is Armstrong or not."
   ]
  },
  {
   "cell_type": "code",
   "execution_count": 4,
   "metadata": {},
   "outputs": [
    {
     "name": "stdout",
     "output_type": "stream",
     "text": [
      "the given number 8208  is armstrong\n"
     ]
    }
   ],
   "source": [
    "n = int(input(\"Enter the number : \"));\n",
    "extra = n;\n",
    "length = 0;\n",
    "while(extra>0) :\n",
    "    length = length + 1;\n",
    "    extra = int(extra/10);\n",
    "armstrong = 0;\n",
    "extra = n;\n",
    "while(extra > 0) :\n",
    "    number = extra%10;\n",
    "    armstrong = armstrong + (number**length);\n",
    "    extra = int(extra/10);\n",
    "if(n == armstrong) :\n",
    "    print(\"the given number\", n ,\" is armstrong\");\n",
    "else :\n",
    "    print(\"the given number\", n ,\" is not armstrong\");"
   ]
  },
  {
   "cell_type": "markdown",
   "metadata": {},
   "source": [
    "### 02) WAP to find out prime numbers between given two numbers."
   ]
  },
  {
   "cell_type": "code",
   "execution_count": null,
   "metadata": {},
   "outputs": [],
   "source": [
    "n1 = int(input(\"Enter the number 1 : \"));\n",
    "n2 = int(input(\"Enter the number 2 : \"));\n",
    "for i in range(n1,n2) :\n",
    "    flag = True;\n",
    "    for j in range(2,i-1) :\n",
    "        if(i%j==0) :\n",
    "            flag = False;\n",
    "            break;\n",
    "    if(flag) :\n",
    "        print(i); "
   ]
  },
  {
   "cell_type": "markdown",
   "metadata": {},
   "source": [
    "### 03) WAP to calculate x^y without using any function."
   ]
  },
  {
   "cell_type": "code",
   "execution_count": null,
   "metadata": {},
   "outputs": [],
   "source": [
    "x = float(input(\"Enter the x : \"));\n",
    "y = float(input(\"Enter the y : \"));\n",
    "print(x,\" ^ \",y,\" = \",x**y)"
   ]
  },
  {
   "cell_type": "markdown",
   "metadata": {},
   "source": [
    "### 04) WAP to check whether the given number is perfect or not.\n",
    "[Sum of factors including 1 excluding number itself]"
   ]
  },
  {
   "cell_type": "code",
   "execution_count": null,
   "metadata": {},
   "outputs": [],
   "source": [
    "n = int(input(\"Enter the number : \"));\n",
    "sumOfFactors = 0;\n",
    "for i in range(1,n):\n",
    "  if(n%i==0) :\n",
    "    sumOfFactors = sumOfFactors + i;\n",
    "if(sumOfFactors == n) : \n",
    "  print(n,\"is perfect number.\");\n",
    "else :\n",
    "  print(n,\" is not a perfect number.\");\n"
   ]
  },
  {
   "cell_type": "markdown",
   "metadata": {},
   "source": [
    "### 05) WAP to find the sum of 1 + (1+2) + (1+2+3) + (1+2+3+4)+...+(1+2+3+4+....+n)"
   ]
  },
  {
   "cell_type": "code",
   "execution_count": null,
   "metadata": {},
   "outputs": [],
   "source": [
    "n = int(input(\"Enter the number : \"));\n",
    "sum = 0;\n",
    "for i in range(1,n+1) :\n",
    "  partialSum = 0;\n",
    "  for j in range(1,i+1) :\n",
    "    partialSum = partialSum + j;\n",
    "  sum = sum + partialSum;\n",
    "print(\"Sum = \",sum);"
   ]
  },
  {
   "cell_type": "markdown",
   "metadata": {},
   "source": [
    "### 06) WAP to print Multiplication Table up to n"
   ]
  },
  {
   "cell_type": "code",
   "execution_count": null,
   "metadata": {},
   "outputs": [],
   "source": [
    "n = int(input(\"Enter the number : \"));\n",
    "for j in range(1,n+1) :\n",
    "  for i in range(1,11) :\n",
    "    print(j,\" * \",i,\" = \",j*i);"
   ]
  }
 ],
 "metadata": {
  "kernelspec": {
   "display_name": "Python 3",
   "language": "python",
   "name": "python3"
  },
  "language_info": {
   "codemirror_mode": {
    "name": "ipython",
    "version": 3
   },
   "file_extension": ".py",
   "mimetype": "text/x-python",
   "name": "python",
   "nbconvert_exporter": "python",
   "pygments_lexer": "ipython3",
   "version": "3.10.6"
  },
  "vscode": {
   "interpreter": {
    "hash": "369f2c481f4da34e4445cda3fffd2e751bd1c4d706f27375911949ba6bb62e1c"
   }
  }
 },
 "nbformat": 4,
 "nbformat_minor": 4
}
